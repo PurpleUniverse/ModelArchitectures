{
  "nbformat": 4,
  "nbformat_minor": 0,
  "metadata": {
    "colab": {
      "provenance": [],
      "gpuType": "T4",
      "authorship_tag": "ABX9TyPZgTJ2Po5bsYBAIorHpMex",
      "include_colab_link": true
    },
    "kernelspec": {
      "name": "python3",
      "display_name": "Python 3"
    },
    "language_info": {
      "name": "python"
    },
    "accelerator": "GPU"
  },
  "cells": [
    {
      "cell_type": "markdown",
      "metadata": {
        "id": "view-in-github",
        "colab_type": "text"
      },
      "source": [
        "<a href=\"https://colab.research.google.com/github/PurpleUniverse/ModelArchitectures/blob/main/ML_ModelArchitectures.ipynb\" target=\"_parent\"><img src=\"https://colab.research.google.com/assets/colab-badge.svg\" alt=\"Open In Colab\"/></a>"
      ]
    },
    {
      "cell_type": "markdown",
      "source": [
        "**Mount the Google Drive and load the EMNIST dataset**"
      ],
      "metadata": {
        "id": "GlVS8GDTk-UJ"
      }
    },
    {
      "cell_type": "code",
      "execution_count": 11,
      "metadata": {
        "id": "7VqtIQyfwDnI",
        "colab": {
          "base_uri": "https://localhost:8080/"
        },
        "outputId": "6374e087-2f85-4ab4-da49-1397af7f009b"
      },
      "outputs": [
        {
          "output_type": "stream",
          "name": "stdout",
          "text": [
            "Drive already mounted at /content/drive; to attempt to forcibly remount, call drive.mount(\"/content/drive\", force_remount=True).\n"
          ]
        }
      ],
      "source": [
        "import pandas as pd\n",
        "import numpy as np\n",
        "import tensorflow as tf\n",
        "from tensorflow.keras import layers, models\n",
        "from tensorflow.keras.callbacks import EarlyStopping\n",
        "from google.colab import drive\n",
        "from sklearn.model_selection import train_test_split\n",
        "\n",
        "# Mount to Google Drive for access of data file\n",
        "drive.mount('/content/drive')\n",
        "\n",
        "pathTrain = \"/content/drive/My Drive/EMNIST/emnist-balanced-train.csv\"\n",
        "train = pd.read_csv(pathTrain).to_numpy()"
      ]
    },
    {
      "cell_type": "markdown",
      "source": [
        "**Prepare the data**"
      ],
      "metadata": {
        "id": "TiqsmbKg_Yk7"
      }
    },
    {
      "cell_type": "code",
      "source": [
        "# Separate labels and features\n",
        "X = train[:, 1:].astype('float32') / 255.0  # Normalize pixel values\n",
        "y = train[:, 0].astype('int')\n",
        "\n",
        "# Reshape the data for CNN (28, 28, 1)\n",
        "X = X.reshape(-1, 28, 28, 1)\n",
        "\n",
        "# Step 2: Split the dataset into training and validation sets\n",
        "X_train, X_val, y_train, y_val = train_test_split(X, y, test_size=0.2, random_state=42)"
      ],
      "metadata": {
        "id": "lJ433YH15fyt"
      },
      "execution_count": 5,
      "outputs": []
    },
    {
      "cell_type": "markdown",
      "source": [
        "**Build and Train the CNN Model**"
      ],
      "metadata": {
        "id": "QD92MEf_5yZ2"
      }
    },
    {
      "cell_type": "code",
      "source": [
        "def create_cnn_model():\n",
        "    model = models.Sequential()\n",
        "    model.add(layers.Conv2D(32, (3, 3), activation='relu', input_shape=(28, 28, 1)))\n",
        "    model.add(layers.MaxPooling2D((2, 2)))\n",
        "    model.add(layers.Conv2D(64, (3, 3), activation='relu'))\n",
        "    model.add(layers.MaxPooling2D((2, 2)))\n",
        "    model.add(layers.Conv2D(64, (3, 3), activation='relu'))\n",
        "    model.add(layers.Flatten())\n",
        "    model.add(layers.Dense(64, activation='relu'))\n",
        "    model.add(layers.Dropout(0.5))  # Dropout layer\n",
        "    model.add(layers.Dense(47, activation='softmax'))  # 47 classes for EMNIST Balanced\n",
        "    return model\n",
        "\n",
        "# Train the CNN Model\n",
        "cnn_model = create_cnn_model()\n",
        "cnn_model.compile(optimizer='adam', loss='sparse_categorical_crossentropy', metrics=['accuracy'])\n",
        "\n",
        "# Early stopping\n",
        "early_stopping = EarlyStopping(monitor='val_loss', patience=3, restore_best_weights=True)\n",
        "\n",
        "# Fit the model\n",
        "cnn_model.fit(X_train, y_train,\n",
        "               epochs=20,\n",
        "               batch_size=64,\n",
        "               validation_data=(X_val, y_val),\n",
        "               callbacks=[early_stopping])\n"
      ],
      "metadata": {
        "colab": {
          "base_uri": "https://localhost:8080/"
        },
        "id": "cBaELuOW50fJ",
        "outputId": "12d6dbc9-06ac-4515-b433-66d8dd49dae7"
      },
      "execution_count": 12,
      "outputs": [
        {
          "output_type": "stream",
          "name": "stderr",
          "text": [
            "/usr/local/lib/python3.10/dist-packages/keras/src/layers/convolutional/base_conv.py:107: UserWarning: Do not pass an `input_shape`/`input_dim` argument to a layer. When using Sequential models, prefer using an `Input(shape)` object as the first layer in the model instead.\n",
            "  super().__init__(activity_regularizer=activity_regularizer, **kwargs)\n"
          ]
        },
        {
          "output_type": "stream",
          "name": "stdout",
          "text": [
            "Epoch 1/20\n",
            "\u001b[1m1410/1410\u001b[0m \u001b[32m━━━━━━━━━━━━━━━━━━━━\u001b[0m\u001b[37m\u001b[0m \u001b[1m13s\u001b[0m 7ms/step - accuracy: 0.3867 - loss: 2.2127 - val_accuracy: 0.8072 - val_loss: 0.5662\n",
            "Epoch 2/20\n",
            "\u001b[1m1410/1410\u001b[0m \u001b[32m━━━━━━━━━━━━━━━━━━━━\u001b[0m\u001b[37m\u001b[0m \u001b[1m4s\u001b[0m 3ms/step - accuracy: 0.7319 - loss: 0.8405 - val_accuracy: 0.8386 - val_loss: 0.4576\n",
            "Epoch 3/20\n",
            "\u001b[1m1410/1410\u001b[0m \u001b[32m━━━━━━━━━━━━━━━━━━━━\u001b[0m\u001b[37m\u001b[0m \u001b[1m6s\u001b[0m 4ms/step - accuracy: 0.7793 - loss: 0.6732 - val_accuracy: 0.8517 - val_loss: 0.4078\n",
            "Epoch 4/20\n",
            "\u001b[1m1410/1410\u001b[0m \u001b[32m━━━━━━━━━━━━━━━━━━━━\u001b[0m\u001b[37m\u001b[0m \u001b[1m9s\u001b[0m 3ms/step - accuracy: 0.8050 - loss: 0.5935 - val_accuracy: 0.8574 - val_loss: 0.3860\n",
            "Epoch 5/20\n",
            "\u001b[1m1410/1410\u001b[0m \u001b[32m━━━━━━━━━━━━━━━━━━━━\u001b[0m\u001b[37m\u001b[0m \u001b[1m6s\u001b[0m 4ms/step - accuracy: 0.8166 - loss: 0.5509 - val_accuracy: 0.8623 - val_loss: 0.3772\n",
            "Epoch 6/20\n",
            "\u001b[1m1410/1410\u001b[0m \u001b[32m━━━━━━━━━━━━━━━━━━━━\u001b[0m\u001b[37m\u001b[0m \u001b[1m9s\u001b[0m 3ms/step - accuracy: 0.8277 - loss: 0.5155 - val_accuracy: 0.8645 - val_loss: 0.3687\n",
            "Epoch 7/20\n",
            "\u001b[1m1410/1410\u001b[0m \u001b[32m━━━━━━━━━━━━━━━━━━━━\u001b[0m\u001b[37m\u001b[0m \u001b[1m6s\u001b[0m 4ms/step - accuracy: 0.8327 - loss: 0.4860 - val_accuracy: 0.8687 - val_loss: 0.3587\n",
            "Epoch 8/20\n",
            "\u001b[1m1410/1410\u001b[0m \u001b[32m━━━━━━━━━━━━━━━━━━━━\u001b[0m\u001b[37m\u001b[0m \u001b[1m5s\u001b[0m 3ms/step - accuracy: 0.8395 - loss: 0.4677 - val_accuracy: 0.8720 - val_loss: 0.3512\n",
            "Epoch 9/20\n",
            "\u001b[1m1410/1410\u001b[0m \u001b[32m━━━━━━━━━━━━━━━━━━━━\u001b[0m\u001b[37m\u001b[0m \u001b[1m5s\u001b[0m 3ms/step - accuracy: 0.8436 - loss: 0.4566 - val_accuracy: 0.8736 - val_loss: 0.3457\n",
            "Epoch 10/20\n",
            "\u001b[1m1410/1410\u001b[0m \u001b[32m━━━━━━━━━━━━━━━━━━━━\u001b[0m\u001b[37m\u001b[0m \u001b[1m6s\u001b[0m 4ms/step - accuracy: 0.8492 - loss: 0.4326 - val_accuracy: 0.8742 - val_loss: 0.3501\n",
            "Epoch 11/20\n",
            "\u001b[1m1410/1410\u001b[0m \u001b[32m━━━━━━━━━━━━━━━━━━━━\u001b[0m\u001b[37m\u001b[0m \u001b[1m10s\u001b[0m 4ms/step - accuracy: 0.8511 - loss: 0.4286 - val_accuracy: 0.8734 - val_loss: 0.3505\n",
            "Epoch 12/20\n",
            "\u001b[1m1410/1410\u001b[0m \u001b[32m━━━━━━━━━━━━━━━━━━━━\u001b[0m\u001b[37m\u001b[0m \u001b[1m9s\u001b[0m 3ms/step - accuracy: 0.8555 - loss: 0.4116 - val_accuracy: 0.8762 - val_loss: 0.3409\n",
            "Epoch 13/20\n",
            "\u001b[1m1410/1410\u001b[0m \u001b[32m━━━━━━━━━━━━━━━━━━━━\u001b[0m\u001b[37m\u001b[0m \u001b[1m6s\u001b[0m 4ms/step - accuracy: 0.8611 - loss: 0.3977 - val_accuracy: 0.8740 - val_loss: 0.3470\n",
            "Epoch 14/20\n",
            "\u001b[1m1410/1410\u001b[0m \u001b[32m━━━━━━━━━━━━━━━━━━━━\u001b[0m\u001b[37m\u001b[0m \u001b[1m4s\u001b[0m 3ms/step - accuracy: 0.8614 - loss: 0.3938 - val_accuracy: 0.8771 - val_loss: 0.3440\n",
            "Epoch 15/20\n",
            "\u001b[1m1410/1410\u001b[0m \u001b[32m━━━━━━━━━━━━━━━━━━━━\u001b[0m\u001b[37m\u001b[0m \u001b[1m4s\u001b[0m 3ms/step - accuracy: 0.8647 - loss: 0.3802 - val_accuracy: 0.8738 - val_loss: 0.3478\n"
          ]
        },
        {
          "output_type": "execute_result",
          "data": {
            "text/plain": [
              "<keras.src.callbacks.history.History at 0x7bbb5fbbf250>"
            ]
          },
          "metadata": {},
          "execution_count": 12
        }
      ]
    },
    {
      "cell_type": "markdown",
      "source": [
        "**Build and Train the MLP Model**"
      ],
      "metadata": {
        "id": "9spjGZli_pTR"
      }
    },
    {
      "cell_type": "code",
      "source": [
        "def create_mlp_model():\n",
        "    model = models.Sequential()\n",
        "    model.add(layers.Flatten(input_shape=(784,)))  # Flatten the input\n",
        "    model.add(layers.Dense(128, activation='relu'))\n",
        "    model.add(layers.Dropout(0.5))  # Dropout layer\n",
        "    model.add(layers.Dense(64, activation='relu'))\n",
        "    model.add(layers.Dropout(0.5))  # Dropout layer\n",
        "    model.add(layers.Dense(47, activation='softmax'))  # 47 classes for EMNIST Balanced\n",
        "    return model\n",
        "\n",
        "# Train the MLP Model\n",
        "mlp_model = create_mlp_model()\n",
        "mlp_model.compile(optimizer='adam', loss='sparse_categorical_crossentropy', metrics=['accuracy'])\n",
        "\n",
        "# Early stopping\n",
        "early_stopping_mlp = EarlyStopping(monitor='val_loss', patience=3, restore_best_weights=True)\n",
        "\n",
        "# Fit the model\n",
        "mlp_model.fit(X_train.reshape(-1, 784), y_train,\n",
        "               epochs=20,\n",
        "               batch_size=64,\n",
        "               validation_data=(X_val.reshape(-1, 784), y_val),\n",
        "               callbacks=[early_stopping_mlp])\n"
      ],
      "metadata": {
        "colab": {
          "base_uri": "https://localhost:8080/"
        },
        "id": "W5F725YX_nkK",
        "outputId": "efbfbcfa-2d3f-41a7-a559-18516dc5b8e3"
      },
      "execution_count": 8,
      "outputs": [
        {
          "output_type": "stream",
          "name": "stderr",
          "text": [
            "/usr/local/lib/python3.10/dist-packages/keras/src/layers/reshaping/flatten.py:37: UserWarning: Do not pass an `input_shape`/`input_dim` argument to a layer. When using Sequential models, prefer using an `Input(shape)` object as the first layer in the model instead.\n",
            "  super().__init__(**kwargs)\n"
          ]
        },
        {
          "output_type": "stream",
          "name": "stdout",
          "text": [
            "Epoch 1/20\n",
            "\u001b[1m1410/1410\u001b[0m \u001b[32m━━━━━━━━━━━━━━━━━━━━\u001b[0m\u001b[37m\u001b[0m \u001b[1m12s\u001b[0m 6ms/step - accuracy: 0.2323 - loss: 2.8597 - val_accuracy: 0.6573 - val_loss: 1.2092\n",
            "Epoch 2/20\n",
            "\u001b[1m1410/1410\u001b[0m \u001b[32m━━━━━━━━━━━━━━━━━━━━\u001b[0m\u001b[37m\u001b[0m \u001b[1m4s\u001b[0m 3ms/step - accuracy: 0.4967 - loss: 1.7108 - val_accuracy: 0.7007 - val_loss: 1.0257\n",
            "Epoch 3/20\n",
            "\u001b[1m1410/1410\u001b[0m \u001b[32m━━━━━━━━━━━━━━━━━━━━\u001b[0m\u001b[37m\u001b[0m \u001b[1m3s\u001b[0m 2ms/step - accuracy: 0.5418 - loss: 1.5441 - val_accuracy: 0.7137 - val_loss: 0.9340\n",
            "Epoch 4/20\n",
            "\u001b[1m1410/1410\u001b[0m \u001b[32m━━━━━━━━━━━━━━━━━━━━\u001b[0m\u001b[37m\u001b[0m \u001b[1m5s\u001b[0m 2ms/step - accuracy: 0.5708 - loss: 1.4477 - val_accuracy: 0.7301 - val_loss: 0.8710\n",
            "Epoch 5/20\n",
            "\u001b[1m1410/1410\u001b[0m \u001b[32m━━━━━━━━━━━━━━━━━━━━\u001b[0m\u001b[37m\u001b[0m \u001b[1m5s\u001b[0m 3ms/step - accuracy: 0.5796 - loss: 1.4033 - val_accuracy: 0.7298 - val_loss: 0.8557\n",
            "Epoch 6/20\n",
            "\u001b[1m1410/1410\u001b[0m \u001b[32m━━━━━━━━━━━━━━━━━━━━\u001b[0m\u001b[37m\u001b[0m \u001b[1m3s\u001b[0m 2ms/step - accuracy: 0.5907 - loss: 1.3714 - val_accuracy: 0.7423 - val_loss: 0.8318\n",
            "Epoch 7/20\n",
            "\u001b[1m1410/1410\u001b[0m \u001b[32m━━━━━━━━━━━━━━━━━━━━\u001b[0m\u001b[37m\u001b[0m \u001b[1m5s\u001b[0m 2ms/step - accuracy: 0.5999 - loss: 1.3418 - val_accuracy: 0.7451 - val_loss: 0.8087\n",
            "Epoch 8/20\n",
            "\u001b[1m1410/1410\u001b[0m \u001b[32m━━━━━━━━━━━━━━━━━━━━\u001b[0m\u001b[37m\u001b[0m \u001b[1m7s\u001b[0m 3ms/step - accuracy: 0.6077 - loss: 1.3125 - val_accuracy: 0.7482 - val_loss: 0.8010\n",
            "Epoch 9/20\n",
            "\u001b[1m1410/1410\u001b[0m \u001b[32m━━━━━━━━━━━━━━━━━━━━\u001b[0m\u001b[37m\u001b[0m \u001b[1m4s\u001b[0m 3ms/step - accuracy: 0.6102 - loss: 1.2960 - val_accuracy: 0.7504 - val_loss: 0.7764\n",
            "Epoch 10/20\n",
            "\u001b[1m1410/1410\u001b[0m \u001b[32m━━━━━━━━━━━━━━━━━━━━\u001b[0m\u001b[37m\u001b[0m \u001b[1m5s\u001b[0m 2ms/step - accuracy: 0.6161 - loss: 1.2810 - val_accuracy: 0.7552 - val_loss: 0.7761\n",
            "Epoch 11/20\n",
            "\u001b[1m1410/1410\u001b[0m \u001b[32m━━━━━━━━━━━━━━━━━━━━\u001b[0m\u001b[37m\u001b[0m \u001b[1m6s\u001b[0m 3ms/step - accuracy: 0.6196 - loss: 1.2604 - val_accuracy: 0.7585 - val_loss: 0.7607\n",
            "Epoch 12/20\n",
            "\u001b[1m1410/1410\u001b[0m \u001b[32m━━━━━━━━━━━━━━━━━━━━\u001b[0m\u001b[37m\u001b[0m \u001b[1m4s\u001b[0m 2ms/step - accuracy: 0.6205 - loss: 1.2618 - val_accuracy: 0.7546 - val_loss: 0.7647\n",
            "Epoch 13/20\n",
            "\u001b[1m1410/1410\u001b[0m \u001b[32m━━━━━━━━━━━━━━━━━━━━\u001b[0m\u001b[37m\u001b[0m \u001b[1m3s\u001b[0m 2ms/step - accuracy: 0.6226 - loss: 1.2533 - val_accuracy: 0.7575 - val_loss: 0.7503\n",
            "Epoch 14/20\n",
            "\u001b[1m1410/1410\u001b[0m \u001b[32m━━━━━━━━━━━━━━━━━━━━\u001b[0m\u001b[37m\u001b[0m \u001b[1m5s\u001b[0m 3ms/step - accuracy: 0.6244 - loss: 1.2503 - val_accuracy: 0.7594 - val_loss: 0.7560\n",
            "Epoch 15/20\n",
            "\u001b[1m1410/1410\u001b[0m \u001b[32m━━━━━━━━━━━━━━━━━━━━\u001b[0m\u001b[37m\u001b[0m \u001b[1m4s\u001b[0m 3ms/step - accuracy: 0.6319 - loss: 1.2250 - val_accuracy: 0.7643 - val_loss: 0.7478\n",
            "Epoch 16/20\n",
            "\u001b[1m1410/1410\u001b[0m \u001b[32m━━━━━━━━━━━━━━━━━━━━\u001b[0m\u001b[37m\u001b[0m \u001b[1m4s\u001b[0m 2ms/step - accuracy: 0.6290 - loss: 1.2408 - val_accuracy: 0.7636 - val_loss: 0.7412\n",
            "Epoch 17/20\n",
            "\u001b[1m1410/1410\u001b[0m \u001b[32m━━━━━━━━━━━━━━━━━━━━\u001b[0m\u001b[37m\u001b[0m \u001b[1m7s\u001b[0m 4ms/step - accuracy: 0.6314 - loss: 1.2293 - val_accuracy: 0.7673 - val_loss: 0.7362\n",
            "Epoch 18/20\n",
            "\u001b[1m1410/1410\u001b[0m \u001b[32m━━━━━━━━━━━━━━━━━━━━\u001b[0m\u001b[37m\u001b[0m \u001b[1m3s\u001b[0m 2ms/step - accuracy: 0.6342 - loss: 1.2025 - val_accuracy: 0.7637 - val_loss: 0.7377\n",
            "Epoch 19/20\n",
            "\u001b[1m1410/1410\u001b[0m \u001b[32m━━━━━━━━━━━━━━━━━━━━\u001b[0m\u001b[37m\u001b[0m \u001b[1m3s\u001b[0m 2ms/step - accuracy: 0.6351 - loss: 1.2188 - val_accuracy: 0.7647 - val_loss: 0.7355\n",
            "Epoch 20/20\n",
            "\u001b[1m1410/1410\u001b[0m \u001b[32m━━━━━━━━━━━━━━━━━━━━\u001b[0m\u001b[37m\u001b[0m \u001b[1m5s\u001b[0m 3ms/step - accuracy: 0.6360 - loss: 1.2021 - val_accuracy: 0.7694 - val_loss: 0.7303\n"
          ]
        },
        {
          "output_type": "execute_result",
          "data": {
            "text/plain": [
              "<keras.src.callbacks.history.History at 0x7bbbbff6cf40>"
            ]
          },
          "metadata": {},
          "execution_count": 8
        }
      ]
    },
    {
      "cell_type": "markdown",
      "source": [
        "**Evaluate and compare the models**"
      ],
      "metadata": {
        "id": "uCa1Rg16AFB7"
      }
    },
    {
      "cell_type": "code",
      "source": [
        "# Evaluate the best fine-tuned CNN model\n",
        "cnn_loss, cnn_accuracy = cnn_model.evaluate(X_val, y_val, verbose=0)\n",
        "print(f\"Best CNN Model - Loss: {cnn_loss:.4f}, Accuracy: {cnn_accuracy:.4f}\")\n",
        "\n",
        "# Evaluate the best fine-tuned MLP model\n",
        "mlp_loss, mlp_accuracy = mlp_model.evaluate(X_val.reshape(-1, 784), y_val, verbose=0)\n",
        "print(f\"Best MLP Model - Loss: {mlp_loss:.4f}, Accuracy: {mlp_accuracy:.4f}\")\n",
        "\n",
        "# Compare the models\n",
        "print(\"\\nComparison of Models:\")\n",
        "print(f\"CNN Model - Loss: {cnn_loss:.4f}, Accuracy: {cnn_accuracy:.4f}\")\n",
        "print(f\"MLP Model - Loss: {mlp_loss:.4f}, Accuracy: {mlp_accuracy:.4f}\")\n"
      ],
      "metadata": {
        "colab": {
          "base_uri": "https://localhost:8080/"
        },
        "id": "OPGr8_0yAHZW",
        "outputId": "6238a6e5-fbf6-486a-e1a2-adafbce03d45"
      },
      "execution_count": 10,
      "outputs": [
        {
          "output_type": "stream",
          "name": "stdout",
          "text": [
            "Best CNN Model - Loss: 0.3467, Accuracy: 0.8770\n",
            "Best MLP Model - Loss: 0.7303, Accuracy: 0.7694\n",
            "\n",
            "Comparison of Models:\n",
            "CNN Model - Loss: 0.3467, Accuracy: 0.8770\n",
            "MLP Model - Loss: 0.7303, Accuracy: 0.7694\n"
          ]
        }
      ]
    }
  ]
}